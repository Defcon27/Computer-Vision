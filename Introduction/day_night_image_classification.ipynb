{
 "cells": [
  {
   "cell_type": "markdown",
   "metadata": {},
   "source": [
    "# Day Night Image Classifier"
   ]
  },
  {
   "cell_type": "code",
   "execution_count": 2,
   "metadata": {},
   "outputs": [],
   "source": [
    "import numpy as np\n",
    "import matplotlib.image as mpimg\n",
    "import matplotlib.pyplot as plt\n",
    "import cv2\n",
    "import helpers"
   ]
  },
  {
   "cell_type": "code",
   "execution_count": null,
   "metadata": {},
   "outputs": [],
   "source": [
    "# Image data directories\n",
    "image_dir_training = \"day_night_images/training/\"\n",
    "image_dir_test = \"day_night_images/test/\"\n",
    "\n",
    "\n",
    "# Load training data\n",
    "IMAGE_LIST = helpers.load_dataset(image_dir_training)\n",
    "\n",
    "\n",
    "# Select an image and its label by list index\n",
    "image_index = 0\n",
    "selected_image = IMAGE_LIST[image_index][0]\n",
    "selected_label = IMAGE_LIST[image_index][1]"
   ]
  },
  {
   "cell_type": "markdown",
   "metadata": {},
   "source": [
    "### Standardizing"
   ]
  },
  {
   "cell_type": "code",
   "execution_count": null,
   "metadata": {},
   "outputs": [],
   "source": [
    "#standardizing input\n",
    "def standardize_input(image):\n",
    "    #Resize image so that all \"standard\" images are the same size 600x1100 (hxw) \n",
    "    standard_im = image[:600,:1100]\n",
    "    \n",
    "    return standard_im\n",
    "\n",
    "#standardizing input\n",
    "def encode(label):\n",
    "    numerical_val = 0\n",
    "    #labelling data\n",
    "    if (label==\"day\"):\n",
    "        numerical_val=1\n",
    "    else:\n",
    "        numerical_val=0\n",
    "        \n",
    "    return numerical_val\n",
    "\n",
    "#constructing standardized list\n",
    "def standardize(image_list):\n",
    "    standard_list = []\n",
    "    \n",
    "    for item in image_list:\n",
    "        image = item[0]\n",
    "        label = item[1]\n",
    "        \n",
    "        standardized_im = standardize_input(image)\n",
    "        binary_label = encode(label)    \n",
    "        standard_list.append((standardized_im, binary_label))\n",
    "        \n",
    "    return standard_list\n",
    "\n",
    "\n",
    "\n",
    "STANDARDIZED_LIST = helpers.standardize(IMAGE_LIST)\n",
    "\n",
    "# Selecting an image by index\n",
    "image_num = 0\n",
    "selected_image = STANDARDIZED_LIST[image_num][0]\n",
    "selected_label = STANDARDIZED_LIST[image_num][1]"
   ]
  },
  {
   "cell_type": "markdown",
   "metadata": {},
   "source": [
    "### Average brightness using V channel in HSV"
   ]
  },
  {
   "cell_type": "code",
   "execution_count": null,
   "metadata": {},
   "outputs": [],
   "source": [
    "def avg_brightness(rgb_image):\n",
    "    # Convert image to HSV\n",
    "    hsv = cv2.cvtColor(rgb_image, cv2.COLOR_RGB2HSV)\n",
    "    # Add up all the pixel values in the V channel\n",
    "    sum_brightness = np.sum(hsv[:,:,2])\n",
    "    area = 600*1100.0  # pixels\n",
    "    avg = sum_brightness/area\n",
    "    \n",
    "    return avg"
   ]
  },
  {
   "cell_type": "markdown",
   "metadata": {},
   "source": [
    "### predict label"
   ]
  },
  {
   "cell_type": "code",
   "execution_count": null,
   "metadata": {},
   "outputs": [],
   "source": [
    "def estimate_label(rgb_image):\n",
    "    avg = avg_brightness(rgb_image)\n",
    "    predicted_label = 0\n",
    "    threshold = 105\n",
    "    if(avg > threshold):\n",
    "        predicted_label = 1\n",
    "    \n",
    "    return predicted_label"
   ]
  },
  {
   "cell_type": "markdown",
   "metadata": {},
   "source": [
    "### Determining Accuracy"
   ]
  },
  {
   "cell_type": "code",
   "execution_count": null,
   "metadata": {},
   "outputs": [],
   "source": [
    "import random\n",
    "\n",
    "TEST_IMAGE_LIST = helpers.load_dataset(image_dir_test)\n",
    "STANDARDIZED_TEST_LIST = helpers.standardize(TEST_IMAGE_LIST)\n",
    "\n",
    "# Shuffle the standardized test data\n",
    "random.shuffle(STANDARDIZED_TEST_LIST)\n",
    "\n",
    "\n",
    "def get_misclassified_images(test_images):\n",
    "    misclassified_images_labels = []\n",
    "    \n",
    "    # Classify each image and compare to the true label\n",
    "    for image in test_images:\n",
    "        im = image[0]\n",
    "        true_label = image[1]\n",
    "        predicted_label = estimate_label(im)\n",
    "\n",
    "        if(predicted_label != true_label):\n",
    "            misclassified_images_labels.append((im, predicted_label, true_label))\n",
    "            \n",
    "    return misclassified_images_labels\n",
    "\n",
    "\n",
    "#Finding all misclassified images in a given test set\n",
    "MISCLASSIFIED = get_misclassified_images(STANDARDIZED_TEST_LIST)\n",
    "\n",
    "# Accuracy calculations\n",
    "total = len(STANDARDIZED_TEST_LIST)\n",
    "num_correct = total - len(MISCLASSIFIED)\n",
    "accuracy = num_correct/total\n",
    "\n",
    "print('Accuracy: ' + str(accuracy))\n",
    "print(\"Number of misclassified images = \" + str(len(MISCLASSIFIED)) +' out of '+ str(total))\n",
    "\n",
    "\n",
    "# Visualize misclassified example(s)\n",
    "num = 0\n",
    "test_mis_im = MISCLASSIFIED[num][0]\n",
    "predict_label = MISCLASSIFIED[num][1] \n",
    "true_label = MISCLASSIFIED[num][2] \n",
    "plt.imshow(test_mis_im)\n",
    "print(predict_label)\n",
    "print(true_label)"
   ]
  }
 ],
 "metadata": {
  "kernelspec": {
   "display_name": "Python 3.6 (tensorflow)",
   "language": "python",
   "name": "tensorflow"
  },
  "language_info": {
   "codemirror_mode": {
    "name": "ipython",
    "version": 3
   },
   "file_extension": ".py",
   "mimetype": "text/x-python",
   "name": "python",
   "nbconvert_exporter": "python",
   "pygments_lexer": "ipython3",
   "version": "3.7.6"
  }
 },
 "nbformat": 4,
 "nbformat_minor": 2
}
