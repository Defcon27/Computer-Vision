{
 "cells": [
  {
   "cell_type": "markdown",
   "metadata": {},
   "source": [
    "# Edge Detection"
   ]
  },
  {
   "cell_type": "markdown",
   "metadata": {},
   "source": [
    "## Canny Edge Detection"
   ]
  },
  {
   "cell_type": "code",
   "execution_count": 5,
   "metadata": {},
   "outputs": [
    {
     "data": {
      "text/plain": [
       "<matplotlib.image.AxesImage at 0x216db1931c8>"
      ]
     },
     "execution_count": 5,
     "metadata": {},
     "output_type": "execute_result"
    },
    {
     "data": {
      "image/png": "[encoded data removed]",
      "text/plain": [
       "<Figure size 432x288 with 1 Axes>"
      ]
     },
     "metadata": {
      "needs_background": "light"
     },
     "output_type": "display_data"
    }
   ],
   "source": [
    "import matplotlib.pyplot as plt\n",
    "import numpy as np\n",
    "# Import the canny edge detector \n",
    "from skimage.feature import canny\n",
    "from skimage import data,io,color\n",
    "\n",
    "img = data.rocket()\n",
    "\n",
    "# Convert image to grayscale\n",
    "img = color.rgb2gray(img)\n",
    "\n",
    "# Apply canny edge detector\n",
    "canny_edges = canny(img)\n",
    "\n",
    "# Show resulting image\n",
    "plt.imshow(canny_edges, cmap=\"gray\")"
   ]
  },
  {
   "cell_type": "markdown",
   "metadata": {},
   "source": [
    "# Corner Detection"
   ]
  },
  {
   "cell_type": "code",
   "execution_count": 8,
   "metadata": {},
   "outputs": [],
   "source": [
    "# Import the corner detector related functions and module\n",
    "from skimage.feature import corner_harris, corner_peaks\n",
    "\n",
    "# Convert image from RGB-3 to grayscale\n",
    "building_image_gray = color.rgb2gray(img)\n",
    "\n",
    "# Apply the detector  to measure the possible corners\n",
    "measure_image = corner_harris(building_image_gray)\n",
    "\n",
    "# Find the peaks of the corners\n",
    "coords = corner_peaks(measure_image, min_distance=2)\n",
    "\n",
    "# Show original and resulting image with corners detected\n"
   ]
  },
  {
   "cell_type": "code",
   "execution_count": 10,
   "metadata": {},
   "outputs": [
    {
     "name": "stdout",
     "output_type": "stream",
     "text": [
      "With a min_distance set to 2, we detect a total 11489 corners in the image.\n",
      "With a min_distance set to 40, we detect a total 6 corners in the image.\n"
     ]
    }
   ],
   "source": [
    "# Find the peaks with a min distance of 2 pixels\n",
    "coords_w_min_2 = corner_peaks(img, min_distance=2)\n",
    "print(\"With a min_distance set to 2, we detect a total\", len(coords_w_min_2), \"corners in the image.\")\n",
    "\n",
    "# Find the peaks with a min distance of 40 pixels\n",
    "coords_w_min_40 = corner_peaks(img, min_distance=40)\n",
    "print(\"With a min_distance set to 40, we detect a total\", len(coords_w_min_40), \"corners in the image.\")\n"
   ]
  },
  {
   "cell_type": "code",
   "execution_count": null,
   "metadata": {},
   "outputs": [],
   "source": []
  }
 ],
 "metadata": {
  "kernelspec": {
   "display_name": "Python 3",
   "language": "python",
   "name": "python3"
  },
  "language_info": {
   "codemirror_mode": {
    "name": "ipython",
    "version": 3
   },
   "file_extension": ".py",
   "mimetype": "text/x-python",
   "name": "python",
   "nbconvert_exporter": "python",
   "pygments_lexer": "ipython3",
   "version": "3.7.4"
  }
 },
 "nbformat": 4,
 "nbformat_minor": 2
}
